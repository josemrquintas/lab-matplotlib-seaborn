{
 "cells": [
  {
   "cell_type": "code",
   "execution_count": 6,
   "metadata": {},
   "outputs": [],
   "source": [
    "import matplotlib.pyplot as plt\n",
    "import numpy as np"
   ]
  },
  {
   "cell_type": "code",
   "execution_count": 41,
   "metadata": {},
   "outputs": [],
   "source": [
    "def test_given_colors_levels_and_extends():\n",
    "    _, axes = plt.subplots(2, 4)\n",
    "\n",
    "    data = np.arange(12).reshape(3, 4)\n",
    "    print(data)\n",
    "    colors = ['red', 'yellow', 'pink', 'blue', 'black']\n",
    "    levels = [2, 4, 8, 10]\n",
    "    \n",
    "    for i, ax in enumerate(axes.flatten()):\n",
    "        #plt.sca(ax)\n",
    "\n",
    "        filled = i % 2 == 0.\n",
    "        extend = ['neither', 'min', 'max', 'both'][i // 2]\n",
    "\n",
    "        if filled:\n",
    "            last_color = -1 if extend in ['min', 'max'] else None\n",
    "            plt.contourf(data, \n",
    "                         colors=colors[:last_color], \n",
    "                         levels=levels,\n",
    "                         extend=extend\n",
    "                        )\n",
    "        else:\n",
    "            last_level = -1 if extend == 'both' else None\n",
    "            plt.contour(data, colors=colors, \n",
    "                        levels=levels[:last_level],\n",
    "                        extend=extend\n",
    "                       )\n",
    "\n",
    "\n",
    "        plt.colorbar() "
   ]
  },
  {
   "cell_type": "code",
   "execution_count": 42,
   "metadata": {},
   "outputs": [
    {
     "name": "stdout",
     "output_type": "stream",
     "text": [
      "[[ 0  1  2  3]\n",
      " [ 4  5  6  7]\n",
      " [ 8  9 10 11]]\n"
     ]
    },
    {
     "data": {
      "image/png": "[encoded data removed]",
      "text/plain": [
       "<Figure size 432x288 with 16 Axes>"
      ]
     },
     "metadata": {
      "needs_background": "light"
     },
     "output_type": "display_data"
    }
   ],
   "source": [
    "test_given_colors_levels_and_extends()"
   ]
  },
  {
   "cell_type": "code",
   "execution_count": 9,
   "metadata": {},
   "outputs": [
    {
     "ename": "NameError",
     "evalue": "name 'data' is not defined",
     "output_type": "error",
     "traceback": [
      "\u001b[0;31m---------------------------------------------------------------------------\u001b[0m",
      "\u001b[0;31mNameError\u001b[0m                                 Traceback (most recent call last)",
      "\u001b[0;32m<ipython-input-9-dbd883db58b7>\u001b[0m in \u001b[0;36m<module>\u001b[0;34m\u001b[0m\n\u001b[0;32m----> 1\u001b[0;31m \u001b[0mprint\u001b[0m\u001b[0;34m(\u001b[0m\u001b[0mdata\u001b[0m\u001b[0;34m)\u001b[0m\u001b[0;34m\u001b[0m\u001b[0;34m\u001b[0m\u001b[0m\n\u001b[0m",
      "\u001b[0;31mNameError\u001b[0m: name 'data' is not defined"
     ]
    }
   ],
   "source": [
    "print(data)"
   ]
  },
  {
   "cell_type": "code",
   "execution_count": null,
   "metadata": {},
   "outputs": [],
   "source": []
  }
 ],
 "metadata": {
  "kernelspec": {
   "display_name": "Python 3",
   "language": "python",
   "name": "python3"
  },
  "language_info": {
   "codemirror_mode": {
    "name": "ipython",
    "version": 3
   },
   "file_extension": ".py",
   "mimetype": "text/x-python",
   "name": "python",
   "nbconvert_exporter": "python",
   "pygments_lexer": "ipython3",
   "version": "3.7.4"
  }
 },
 "nbformat": 4,
 "nbformat_minor": 4
}
